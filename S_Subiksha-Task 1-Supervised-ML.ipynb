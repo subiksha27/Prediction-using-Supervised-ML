{
  "nbformat": 4,
  "nbformat_minor": 0,
  "metadata": {
    "colab": {
      "name": "S.Subiksha.ipynb",
      "provenance": [],
      "toc_visible": true
    },
    "kernelspec": {
      "name": "python3",
      "display_name": "Python 3"
    },
    "language_info": {
      "name": "python"
    }
  },
  "cells": [
    {
      "cell_type": "markdown",
      "metadata": {
        "id": "qiTbRG3jyIpR"
      },
      "source": [
        "# Task 2:Prediction using Supervised ML\n",
        "Predict the percentage of an student based on the no. of study hours.A simple linear regression task as it involves just 2 variables.\n",
        "\n",
        "DataSet Link: https://raw.githubusercontent.com/AdiPersonalWorks/Random/master/student_scores%20-%20student_scores.csv\n",
        "Done By:S.Subiksha"
      ]
    },
    {
      "cell_type": "code",
      "metadata": {
        "id": "uojuntvtxmuq"
      },
      "source": [
        "#First step is to import all the required libraries\n",
        "import pandas as pd  \n",
        "import numpy as np    \n",
        "import matplotlib.pyplot as plt  "
      ],
      "execution_count": 21,
      "outputs": []
    },
    {
      "cell_type": "code",
      "metadata": {
        "colab": {
          "base_uri": "https://localhost:8080/",
          "height": 203
        },
        "id": "30wy3HE0yn_V",
        "outputId": "f0fb447d-0968-45da-9720-672e136d9393"
      },
      "source": [
        "df = pd.read_csv('http://bit.ly/w-data') #Read the data\n",
        "df.head(5)#print the first 5 data"
      ],
      "execution_count": 22,
      "outputs": [
        {
          "output_type": "execute_result",
          "data": {
            "text/html": [
              "<div>\n",
              "<style scoped>\n",
              "    .dataframe tbody tr th:only-of-type {\n",
              "        vertical-align: middle;\n",
              "    }\n",
              "\n",
              "    .dataframe tbody tr th {\n",
              "        vertical-align: top;\n",
              "    }\n",
              "\n",
              "    .dataframe thead th {\n",
              "        text-align: right;\n",
              "    }\n",
              "</style>\n",
              "<table border=\"1\" class=\"dataframe\">\n",
              "  <thead>\n",
              "    <tr style=\"text-align: right;\">\n",
              "      <th></th>\n",
              "      <th>Hours</th>\n",
              "      <th>Scores</th>\n",
              "    </tr>\n",
              "  </thead>\n",
              "  <tbody>\n",
              "    <tr>\n",
              "      <th>0</th>\n",
              "      <td>2.5</td>\n",
              "      <td>21</td>\n",
              "    </tr>\n",
              "    <tr>\n",
              "      <th>1</th>\n",
              "      <td>5.1</td>\n",
              "      <td>47</td>\n",
              "    </tr>\n",
              "    <tr>\n",
              "      <th>2</th>\n",
              "      <td>3.2</td>\n",
              "      <td>27</td>\n",
              "    </tr>\n",
              "    <tr>\n",
              "      <th>3</th>\n",
              "      <td>8.5</td>\n",
              "      <td>75</td>\n",
              "    </tr>\n",
              "    <tr>\n",
              "      <th>4</th>\n",
              "      <td>3.5</td>\n",
              "      <td>30</td>\n",
              "    </tr>\n",
              "  </tbody>\n",
              "</table>\n",
              "</div>"
            ],
            "text/plain": [
              "   Hours  Scores\n",
              "0    2.5      21\n",
              "1    5.1      47\n",
              "2    3.2      27\n",
              "3    8.5      75\n",
              "4    3.5      30"
            ]
          },
          "metadata": {
            "tags": []
          },
          "execution_count": 22
        }
      ]
    },
    {
      "cell_type": "code",
      "metadata": {
        "colab": {
          "base_uri": "https://localhost:8080/",
          "height": 295
        },
        "id": "VFFPeV0ay7u4",
        "outputId": "57f99414-b5b2-4fac-9980-ef8cdb7371cd"
      },
      "source": [
        "df.plot(x='Hours', y='Scores', style='o')   #Plot of Hours vs Scores to understand the pattern \n",
        "plt.title('Hours vs Percentage')    #title of the graph\n",
        "plt.xlabel('Number of Hours Studied')    #x and y axis\n",
        "plt.ylabel('Percentage Score')    \n",
        "plt.show()  #print"
      ],
      "execution_count": 23,
      "outputs": [
        {
          "output_type": "display_data",
          "data": {
            "image/png": "[encoded data removed]",
            "text/plain": [
              "<Figure size 432x288 with 1 Axes>"
            ]
          },
          "metadata": {
            "tags": [],
            "needs_background": "light"
          }
        }
      ]
    },
    {
      "cell_type": "code",
      "metadata": {
        "id": "qylbCXxdy7xh"
      },
      "source": [
        "X = df.iloc[:, :-1].values    #Dividing the data into attributes and labels\n",
        "y = df.iloc[:, 1].values "
      ],
      "execution_count": 25,
      "outputs": []
    },
    {
      "cell_type": "code",
      "metadata": {
        "id": "MsF3zv3oy705"
      },
      "source": [
        "from sklearn.model_selection import train_test_split    #he split of data into the training(80%) and test sets(20%)\n",
        "X_train, X_test, y_train, y_test = train_test_split(X, y,test_size=0.2, random_state=0)"
      ],
      "execution_count": 26,
      "outputs": []
    },
    {
      "cell_type": "code",
      "metadata": {
        "colab": {
          "base_uri": "https://localhost:8080/"
        },
        "id": "4InJNnq5y786",
        "outputId": "51706b6c-9a56-4e7d-fb89-39444fafd16e"
      },
      "source": [
        "from sklearn.linear_model import LinearRegression    \n",
        "regressor = LinearRegression()    \n",
        "regressor.fit(X_train, y_train)   #Fit the train set into the LinearRegression model"
      ],
      "execution_count": 27,
      "outputs": [
        {
          "output_type": "execute_result",
          "data": {
            "text/plain": [
              "LinearRegression(copy_X=True, fit_intercept=True, n_jobs=None, normalize=False)"
            ]
          },
          "metadata": {
            "tags": []
          },
          "execution_count": 27
        }
      ]
    },
    {
      "cell_type": "code",
      "metadata": {
        "colab": {
          "base_uri": "https://localhost:8080/",
          "height": 265
        },
        "id": "9RMzgZXBzjHM",
        "outputId": "6e9e86fc-4df8-4735-c540-a386c633fd57"
      },
      "source": [
        "line = regressor.coef_*X+regressor.intercept_  #plotting the data\n",
        "plt.scatter(X, y)  \n",
        "plt.plot(X, line);  \n",
        "plt.show()  \n"
      ],
      "execution_count": 28,
      "outputs": [
        {
          "output_type": "display_data",
          "data": {
            "image/png": "[encoded data removed]",
            "text/plain": [
              "<Figure size 432x288 with 1 Axes>"
            ]
          },
          "metadata": {
            "tags": [],
            "needs_background": "light"
          }
        }
      ]
    },
    {
      "cell_type": "code",
      "metadata": {
        "colab": {
          "base_uri": "https://localhost:8080/"
        },
        "id": "Fk1QwBtGzpYn",
        "outputId": "d9683fd2-0508-408c-cd02-6706c468e65d"
      },
      "source": [
        "print(X_test)   \n",
        "y_pred = regressor.predict(X_test)  #scores for the model "
      ],
      "execution_count": 29,
      "outputs": [
        {
          "output_type": "stream",
          "text": [
            "[[1.5]\n",
            " [3.2]\n",
            " [7.4]\n",
            " [2.5]\n",
            " [5.9]]\n"
          ],
          "name": "stdout"
        }
      ]
    },
    {
      "cell_type": "code",
      "metadata": {
        "colab": {
          "base_uri": "https://localhost:8080/",
          "height": 203
        },
        "id": "O8Suuss2zph_",
        "outputId": "1f313767-489e-4a96-b68b-8170c510997c"
      },
      "source": [
        "dataf = pd.DataFrame({'Actual': y_test, 'Predicted': y_pred})    #omparing the actual versus predicted model to know accuracy\n",
        "dataf  "
      ],
      "execution_count": 30,
      "outputs": [
        {
          "output_type": "execute_result",
          "data": {
            "text/html": [
              "<div>\n",
              "<style scoped>\n",
              "    .dataframe tbody tr th:only-of-type {\n",
              "        vertical-align: middle;\n",
              "    }\n",
              "\n",
              "    .dataframe tbody tr th {\n",
              "        vertical-align: top;\n",
              "    }\n",
              "\n",
              "    .dataframe thead th {\n",
              "        text-align: right;\n",
              "    }\n",
              "</style>\n",
              "<table border=\"1\" class=\"dataframe\">\n",
              "  <thead>\n",
              "    <tr style=\"text-align: right;\">\n",
              "      <th></th>\n",
              "      <th>Actual</th>\n",
              "      <th>Predicted</th>\n",
              "    </tr>\n",
              "  </thead>\n",
              "  <tbody>\n",
              "    <tr>\n",
              "      <th>0</th>\n",
              "      <td>20</td>\n",
              "      <td>16.884145</td>\n",
              "    </tr>\n",
              "    <tr>\n",
              "      <th>1</th>\n",
              "      <td>27</td>\n",
              "      <td>33.732261</td>\n",
              "    </tr>\n",
              "    <tr>\n",
              "      <th>2</th>\n",
              "      <td>69</td>\n",
              "      <td>75.357018</td>\n",
              "    </tr>\n",
              "    <tr>\n",
              "      <th>3</th>\n",
              "      <td>30</td>\n",
              "      <td>26.794801</td>\n",
              "    </tr>\n",
              "    <tr>\n",
              "      <th>4</th>\n",
              "      <td>62</td>\n",
              "      <td>60.491033</td>\n",
              "    </tr>\n",
              "  </tbody>\n",
              "</table>\n",
              "</div>"
            ],
            "text/plain": [
              "   Actual  Predicted\n",
              "0      20  16.884145\n",
              "1      27  33.732261\n",
              "2      69  75.357018\n",
              "3      30  26.794801\n",
              "4      62  60.491033"
            ]
          },
          "metadata": {
            "tags": []
          },
          "execution_count": 30
        }
      ]
    },
    {
      "cell_type": "markdown",
      "metadata": {
        "id": "iI15gKbQ0EVe"
      },
      "source": [
        "## Q. What will be the predicted score of a student if he/she studies for 9.25 hrs/ day?"
      ]
    },
    {
      "cell_type": "code",
      "metadata": {
        "colab": {
          "base_uri": "https://localhost:8080/"
        },
        "id": "PbU4HfQmzu2S",
        "outputId": "e8b65cca-895a-4424-e5cd-41cb28dc6f70"
      },
      "source": [
        "hours = [[9.25]]  \n",
        "own_pred = regressor.predict(hours)  \n",
        "print(\"Number of hours = {}\".format(hours))  \n",
        "print(\"Prediction Score = {}\".format(own_pred[0])) "
      ],
      "execution_count": 31,
      "outputs": [
        {
          "output_type": "stream",
          "text": [
            "Number of hours = [[9.25]]\n",
            "Prediction Score = 93.69173248737539\n"
          ],
          "name": "stdout"
        }
      ]
    },
    {
      "cell_type": "markdown",
      "metadata": {
        "id": "_x2Vu2YW0Jc3"
      },
      "source": [
        "# END"
      ]
    }
  ]
}